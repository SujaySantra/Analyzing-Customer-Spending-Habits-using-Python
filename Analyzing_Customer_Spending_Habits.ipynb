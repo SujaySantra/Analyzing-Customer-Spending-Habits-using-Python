{
  "nbformat": 4,
  "nbformat_minor": 0,
  "metadata": {
    "colab": {
      "provenance": []
    },
    "kernelspec": {
      "name": "python3",
      "display_name": "Python 3"
    },
    "language_info": {
      "name": "python"
    }
  },
  "cells": [
    {
      "cell_type": "code",
      "execution_count": 1,
      "metadata": {
        "id": "lNkyy-MlTGbh"
      },
      "outputs": [],
      "source": [
        "import pandas as pd\n",
        "import numpy as np\n",
        "import matplotlib\n",
        "from matplotlib import pyplot as plt\n",
        "import seaborn as sns"
      ]
    },
    {
      "cell_type": "code",
      "source": [
        "!pip install opendatasets --quiet\n",
        "import opendatasets as od"
      ],
      "metadata": {
        "id": "f-sqosjlTVa6"
      },
      "execution_count": 2,
      "outputs": []
    },
    {
      "cell_type": "code",
      "source": [
        "import os"
      ],
      "metadata": {
        "id": "w5e7lSH6TeML"
      },
      "execution_count": 3,
      "outputs": []
    },
    {
      "cell_type": "code",
      "source": [
        "od.download('https://www.kaggle.com/datasets/thedevastator/analyzing-customer-spending-habits-to-improve-sa')\n",
        "\n",
        "#it requires kaggle username and api key to download kaggle datasets this way\n",
        "#or we can directly download the file manually and put it in the local directory and load into pandas dataframe"
      ],
      "metadata": {
        "colab": {
          "base_uri": "https://localhost:8080/"
        },
        "id": "LLnLvBSMTn5G",
        "outputId": "735e321e-9da4-4d95-ec24-777cf0d0d6d6"
      },
      "execution_count": 4,
      "outputs": [
        {
          "output_type": "stream",
          "name": "stdout",
          "text": [
            "Please provide your Kaggle credentials to download this dataset. Learn more: http://bit.ly/kaggle-creds\n",
            "Your Kaggle username: sujaysantra\n",
            "Your Kaggle Key: ··········\n",
            "Downloading analyzing-customer-spending-habits-to-improve-sa.zip to ./analyzing-customer-spending-habits-to-improve-sa\n"
          ]
        },
        {
          "output_type": "stream",
          "name": "stderr",
          "text": [
            "100%|██████████| 591k/591k [00:00<00:00, 84.5MB/s]"
          ]
        },
        {
          "output_type": "stream",
          "name": "stdout",
          "text": [
            "\n"
          ]
        },
        {
          "output_type": "stream",
          "name": "stderr",
          "text": [
            "\n"
          ]
        }
      ]
    },
    {
      "cell_type": "code",
      "source": [
        "#with the previous line of code, it has downloaded the kaggle dataset in a folder (check the directory)\n",
        "#now we have to get the file from the directory '.../analyzing-customer-spending-habits-to-improve-sa'\n",
        "\n",
        "os.listdir('analyzing-customer-spending-habits-to-improve-sa')"
      ],
      "metadata": {
        "colab": {
          "base_uri": "https://localhost:8080/"
        },
        "id": "gNTx77EuTvOF",
        "outputId": "beb406ea-7ff0-4bb4-b65f-23576424e233"
      },
      "execution_count": 5,
      "outputs": [
        {
          "output_type": "execute_result",
          "data": {
            "text/plain": [
              "['SalesForCourse_quizz_table.csv']"
            ]
          },
          "metadata": {},
          "execution_count": 5
        }
      ]
    },
    {
      "cell_type": "code",
      "source": [
        "#loading the csv file into pandas dataframe\n",
        "\n",
        "spend_df = pd.read_csv('analyzing-customer-spending-habits-to-improve-sa/SalesForCourse_quizz_table.csv')\n",
        "spend_df"
      ],
      "metadata": {
        "colab": {
          "base_uri": "https://localhost:8080/",
          "height": 641
        },
        "id": "Z2DPoRzCUvWi",
        "outputId": "283a94dc-b81f-4bd4-fcd8-f64f1f08dfc4"
      },
      "execution_count": 6,
      "outputs": [
        {
          "output_type": "execute_result",
          "data": {
            "text/plain": [
              "       index      Date    Year     Month  Customer Age Customer Gender  \\\n",
              "0          0  02/19/16  2016.0  February          29.0               F   \n",
              "1          1  02/20/16  2016.0  February          29.0               F   \n",
              "2          2  02/27/16  2016.0  February          29.0               F   \n",
              "3          3  03/12/16  2016.0     March          29.0               F   \n",
              "4          4  03/12/16  2016.0     March          29.0               F   \n",
              "...      ...       ...     ...       ...           ...             ...   \n",
              "34862  34862  02/07/16  2016.0  February          38.0               M   \n",
              "34863  34863  03/13/15  2015.0     March          38.0               M   \n",
              "34864  34864  04/05/15  2015.0     April          38.0               M   \n",
              "34865  34865  08/30/15  2015.0    August          38.0               M   \n",
              "34866  34866       NaN     NaN       NaN           NaN             NaN   \n",
              "\n",
              "             Country           State Product Category     Sub Category  \\\n",
              "0      United States      Washington      Accessories  Tires and Tubes   \n",
              "1      United States      Washington         Clothing           Gloves   \n",
              "2      United States      Washington      Accessories  Tires and Tubes   \n",
              "3      United States      Washington      Accessories  Tires and Tubes   \n",
              "4      United States      Washington      Accessories  Tires and Tubes   \n",
              "...              ...             ...              ...              ...   \n",
              "34862         France  Hauts de Seine            Bikes   Mountain Bikes   \n",
              "34863         France  Hauts de Seine            Bikes   Mountain Bikes   \n",
              "34864         France  Hauts de Seine            Bikes   Mountain Bikes   \n",
              "34865         France  Hauts de Seine            Bikes   Mountain Bikes   \n",
              "34866            NaN             NaN              NaN              NaN   \n",
              "\n",
              "       Quantity  Unit Cost   Unit Price    Cost      Revenue  Column1  \n",
              "0           1.0      80.00   109.000000    80.0   109.000000      NaN  \n",
              "1           2.0      24.50    28.500000    49.0    57.000000      NaN  \n",
              "2           3.0       3.67     5.000000    11.0    15.000000      NaN  \n",
              "3           2.0      87.50   116.500000   175.0   233.000000      NaN  \n",
              "4           3.0      35.00    41.666667   105.0   125.000000      NaN  \n",
              "...         ...        ...          ...     ...          ...      ...  \n",
              "34862       2.0    1160.00   985.500000  2320.0  1971.000000      NaN  \n",
              "34863       1.0    2049.00  1583.000000  2049.0  1583.000000      NaN  \n",
              "34864       3.0     683.00   560.666667  2049.0  1682.000000      NaN  \n",
              "34865       1.0    2320.00  1568.000000  2320.0  1568.000000      NaN  \n",
              "34866       NaN        NaN          NaN     NaN   641.532095      NaN  \n",
              "\n",
              "[34867 rows x 16 columns]"
            ],
            "text/html": [
              "\n",
              "  <div id=\"df-a4241a2b-0c96-47d7-ad19-803bb6d2a6ef\">\n",
              "    <div class=\"colab-df-container\">\n",
              "      <div>\n",
              "<style scoped>\n",
              "    .dataframe tbody tr th:only-of-type {\n",
              "        vertical-align: middle;\n",
              "    }\n",
              "\n",
              "    .dataframe tbody tr th {\n",
              "        vertical-align: top;\n",
              "    }\n",
              "\n",
              "    .dataframe thead th {\n",
              "        text-align: right;\n",
              "    }\n",
              "</style>\n",
              "<table border=\"1\" class=\"dataframe\">\n",
              "  <thead>\n",
              "    <tr style=\"text-align: right;\">\n",
              "      <th></th>\n",
              "      <th>index</th>\n",
              "      <th>Date</th>\n",
              "      <th>Year</th>\n",
              "      <th>Month</th>\n",
              "      <th>Customer Age</th>\n",
              "      <th>Customer Gender</th>\n",
              "      <th>Country</th>\n",
              "      <th>State</th>\n",
              "      <th>Product Category</th>\n",
              "      <th>Sub Category</th>\n",
              "      <th>Quantity</th>\n",
              "      <th>Unit Cost</th>\n",
              "      <th>Unit Price</th>\n",
              "      <th>Cost</th>\n",
              "      <th>Revenue</th>\n",
              "      <th>Column1</th>\n",
              "    </tr>\n",
              "  </thead>\n",
              "  <tbody>\n",
              "    <tr>\n",
              "      <th>0</th>\n",
              "      <td>0</td>\n",
              "      <td>02/19/16</td>\n",
              "      <td>2016.0</td>\n",
              "      <td>February</td>\n",
              "      <td>29.0</td>\n",
              "      <td>F</td>\n",
              "      <td>United States</td>\n",
              "      <td>Washington</td>\n",
              "      <td>Accessories</td>\n",
              "      <td>Tires and Tubes</td>\n",
              "      <td>1.0</td>\n",
              "      <td>80.00</td>\n",
              "      <td>109.000000</td>\n",
              "      <td>80.0</td>\n",
              "      <td>109.000000</td>\n",
              "      <td>NaN</td>\n",
              "    </tr>\n",
              "    <tr>\n",
              "      <th>1</th>\n",
              "      <td>1</td>\n",
              "      <td>02/20/16</td>\n",
              "      <td>2016.0</td>\n",
              "      <td>February</td>\n",
              "      <td>29.0</td>\n",
              "      <td>F</td>\n",
              "      <td>United States</td>\n",
              "      <td>Washington</td>\n",
              "      <td>Clothing</td>\n",
              "      <td>Gloves</td>\n",
              "      <td>2.0</td>\n",
              "      <td>24.50</td>\n",
              "      <td>28.500000</td>\n",
              "      <td>49.0</td>\n",
              "      <td>57.000000</td>\n",
              "      <td>NaN</td>\n",
              "    </tr>\n",
              "    <tr>\n",
              "      <th>2</th>\n",
              "      <td>2</td>\n",
              "      <td>02/27/16</td>\n",
              "      <td>2016.0</td>\n",
              "      <td>February</td>\n",
              "      <td>29.0</td>\n",
              "      <td>F</td>\n",
              "      <td>United States</td>\n",
              "      <td>Washington</td>\n",
              "      <td>Accessories</td>\n",
              "      <td>Tires and Tubes</td>\n",
              "      <td>3.0</td>\n",
              "      <td>3.67</td>\n",
              "      <td>5.000000</td>\n",
              "      <td>11.0</td>\n",
              "      <td>15.000000</td>\n",
              "      <td>NaN</td>\n",
              "    </tr>\n",
              "    <tr>\n",
              "      <th>3</th>\n",
              "      <td>3</td>\n",
              "      <td>03/12/16</td>\n",
              "      <td>2016.0</td>\n",
              "      <td>March</td>\n",
              "      <td>29.0</td>\n",
              "      <td>F</td>\n",
              "      <td>United States</td>\n",
              "      <td>Washington</td>\n",
              "      <td>Accessories</td>\n",
              "      <td>Tires and Tubes</td>\n",
              "      <td>2.0</td>\n",
              "      <td>87.50</td>\n",
              "      <td>116.500000</td>\n",
              "      <td>175.0</td>\n",
              "      <td>233.000000</td>\n",
              "      <td>NaN</td>\n",
              "    </tr>\n",
              "    <tr>\n",
              "      <th>4</th>\n",
              "      <td>4</td>\n",
              "      <td>03/12/16</td>\n",
              "      <td>2016.0</td>\n",
              "      <td>March</td>\n",
              "      <td>29.0</td>\n",
              "      <td>F</td>\n",
              "      <td>United States</td>\n",
              "      <td>Washington</td>\n",
              "      <td>Accessories</td>\n",
              "      <td>Tires and Tubes</td>\n",
              "      <td>3.0</td>\n",
              "      <td>35.00</td>\n",
              "      <td>41.666667</td>\n",
              "      <td>105.0</td>\n",
              "      <td>125.000000</td>\n",
              "      <td>NaN</td>\n",
              "    </tr>\n",
              "    <tr>\n",
              "      <th>...</th>\n",
              "      <td>...</td>\n",
              "      <td>...</td>\n",
              "      <td>...</td>\n",
              "      <td>...</td>\n",
              "      <td>...</td>\n",
              "      <td>...</td>\n",
              "      <td>...</td>\n",
              "      <td>...</td>\n",
              "      <td>...</td>\n",
              "      <td>...</td>\n",
              "      <td>...</td>\n",
              "      <td>...</td>\n",
              "      <td>...</td>\n",
              "      <td>...</td>\n",
              "      <td>...</td>\n",
              "      <td>...</td>\n",
              "    </tr>\n",
              "    <tr>\n",
              "      <th>34862</th>\n",
              "      <td>34862</td>\n",
              "      <td>02/07/16</td>\n",
              "      <td>2016.0</td>\n",
              "      <td>February</td>\n",
              "      <td>38.0</td>\n",
              "      <td>M</td>\n",
              "      <td>France</td>\n",
              "      <td>Hauts de Seine</td>\n",
              "      <td>Bikes</td>\n",
              "      <td>Mountain Bikes</td>\n",
              "      <td>2.0</td>\n",
              "      <td>1160.00</td>\n",
              "      <td>985.500000</td>\n",
              "      <td>2320.0</td>\n",
              "      <td>1971.000000</td>\n",
              "      <td>NaN</td>\n",
              "    </tr>\n",
              "    <tr>\n",
              "      <th>34863</th>\n",
              "      <td>34863</td>\n",
              "      <td>03/13/15</td>\n",
              "      <td>2015.0</td>\n",
              "      <td>March</td>\n",
              "      <td>38.0</td>\n",
              "      <td>M</td>\n",
              "      <td>France</td>\n",
              "      <td>Hauts de Seine</td>\n",
              "      <td>Bikes</td>\n",
              "      <td>Mountain Bikes</td>\n",
              "      <td>1.0</td>\n",
              "      <td>2049.00</td>\n",
              "      <td>1583.000000</td>\n",
              "      <td>2049.0</td>\n",
              "      <td>1583.000000</td>\n",
              "      <td>NaN</td>\n",
              "    </tr>\n",
              "    <tr>\n",
              "      <th>34864</th>\n",
              "      <td>34864</td>\n",
              "      <td>04/05/15</td>\n",
              "      <td>2015.0</td>\n",
              "      <td>April</td>\n",
              "      <td>38.0</td>\n",
              "      <td>M</td>\n",
              "      <td>France</td>\n",
              "      <td>Hauts de Seine</td>\n",
              "      <td>Bikes</td>\n",
              "      <td>Mountain Bikes</td>\n",
              "      <td>3.0</td>\n",
              "      <td>683.00</td>\n",
              "      <td>560.666667</td>\n",
              "      <td>2049.0</td>\n",
              "      <td>1682.000000</td>\n",
              "      <td>NaN</td>\n",
              "    </tr>\n",
              "    <tr>\n",
              "      <th>34865</th>\n",
              "      <td>34865</td>\n",
              "      <td>08/30/15</td>\n",
              "      <td>2015.0</td>\n",
              "      <td>August</td>\n",
              "      <td>38.0</td>\n",
              "      <td>M</td>\n",
              "      <td>France</td>\n",
              "      <td>Hauts de Seine</td>\n",
              "      <td>Bikes</td>\n",
              "      <td>Mountain Bikes</td>\n",
              "      <td>1.0</td>\n",
              "      <td>2320.00</td>\n",
              "      <td>1568.000000</td>\n",
              "      <td>2320.0</td>\n",
              "      <td>1568.000000</td>\n",
              "      <td>NaN</td>\n",
              "    </tr>\n",
              "    <tr>\n",
              "      <th>34866</th>\n",
              "      <td>34866</td>\n",
              "      <td>NaN</td>\n",
              "      <td>NaN</td>\n",
              "      <td>NaN</td>\n",
              "      <td>NaN</td>\n",
              "      <td>NaN</td>\n",
              "      <td>NaN</td>\n",
              "      <td>NaN</td>\n",
              "      <td>NaN</td>\n",
              "      <td>NaN</td>\n",
              "      <td>NaN</td>\n",
              "      <td>NaN</td>\n",
              "      <td>NaN</td>\n",
              "      <td>NaN</td>\n",
              "      <td>641.532095</td>\n",
              "      <td>NaN</td>\n",
              "    </tr>\n",
              "  </tbody>\n",
              "</table>\n",
              "<p>34867 rows × 16 columns</p>\n",
              "</div>\n",
              "      <button class=\"colab-df-convert\" onclick=\"convertToInteractive('df-a4241a2b-0c96-47d7-ad19-803bb6d2a6ef')\"\n",
              "              title=\"Convert this dataframe to an interactive table.\"\n",
              "              style=\"display:none;\">\n",
              "        \n",
              "  <svg xmlns=\"http://www.w3.org/2000/svg\" height=\"24px\"viewBox=\"0 0 24 24\"\n",
              "       width=\"24px\">\n",
              "    <path d=\"M0 0h24v24H0V0z\" fill=\"none\"/>\n",
              "    <path d=\"M18.56 5.44l.94 2.06.94-2.06 2.06-.94-2.06-.94-.94-2.06-.94 2.06-2.06.94zm-11 1L8.5 8.5l.94-2.06 2.06-.94-2.06-.94L8.5 2.5l-.94 2.06-2.06.94zm10 10l.94 2.06.94-2.06 2.06-.94-2.06-.94-.94-2.06-.94 2.06-2.06.94z\"/><path d=\"M17.41 7.96l-1.37-1.37c-.4-.4-.92-.59-1.43-.59-.52 0-1.04.2-1.43.59L10.3 9.45l-7.72 7.72c-.78.78-.78 2.05 0 2.83L4 21.41c.39.39.9.59 1.41.59.51 0 1.02-.2 1.41-.59l7.78-7.78 2.81-2.81c.8-.78.8-2.07 0-2.86zM5.41 20L4 18.59l7.72-7.72 1.47 1.35L5.41 20z\"/>\n",
              "  </svg>\n",
              "      </button>\n",
              "      \n",
              "  <style>\n",
              "    .colab-df-container {\n",
              "      display:flex;\n",
              "      flex-wrap:wrap;\n",
              "      gap: 12px;\n",
              "    }\n",
              "\n",
              "    .colab-df-convert {\n",
              "      background-color: #E8F0FE;\n",
              "      border: none;\n",
              "      border-radius: 50%;\n",
              "      cursor: pointer;\n",
              "      display: none;\n",
              "      fill: #1967D2;\n",
              "      height: 32px;\n",
              "      padding: 0 0 0 0;\n",
              "      width: 32px;\n",
              "    }\n",
              "\n",
              "    .colab-df-convert:hover {\n",
              "      background-color: #E2EBFA;\n",
              "      box-shadow: 0px 1px 2px rgba(60, 64, 67, 0.3), 0px 1px 3px 1px rgba(60, 64, 67, 0.15);\n",
              "      fill: #174EA6;\n",
              "    }\n",
              "\n",
              "    [theme=dark] .colab-df-convert {\n",
              "      background-color: #3B4455;\n",
              "      fill: #D2E3FC;\n",
              "    }\n",
              "\n",
              "    [theme=dark] .colab-df-convert:hover {\n",
              "      background-color: #434B5C;\n",
              "      box-shadow: 0px 1px 3px 1px rgba(0, 0, 0, 0.15);\n",
              "      filter: drop-shadow(0px 1px 2px rgba(0, 0, 0, 0.3));\n",
              "      fill: #FFFFFF;\n",
              "    }\n",
              "  </style>\n",
              "\n",
              "      <script>\n",
              "        const buttonEl =\n",
              "          document.querySelector('#df-a4241a2b-0c96-47d7-ad19-803bb6d2a6ef button.colab-df-convert');\n",
              "        buttonEl.style.display =\n",
              "          google.colab.kernel.accessAllowed ? 'block' : 'none';\n",
              "\n",
              "        async function convertToInteractive(key) {\n",
              "          const element = document.querySelector('#df-a4241a2b-0c96-47d7-ad19-803bb6d2a6ef');\n",
              "          const dataTable =\n",
              "            await google.colab.kernel.invokeFunction('convertToInteractive',\n",
              "                                                     [key], {});\n",
              "          if (!dataTable) return;\n",
              "\n",
              "          const docLinkHtml = 'Like what you see? Visit the ' +\n",
              "            '<a target=\"_blank\" href=https://colab.research.google.com/notebooks/data_table.ipynb>data table notebook</a>'\n",
              "            + ' to learn more about interactive tables.';\n",
              "          element.innerHTML = '';\n",
              "          dataTable['output_type'] = 'display_data';\n",
              "          await google.colab.output.renderOutput(dataTable, element);\n",
              "          const docLink = document.createElement('div');\n",
              "          docLink.innerHTML = docLinkHtml;\n",
              "          element.appendChild(docLink);\n",
              "        }\n",
              "      </script>\n",
              "    </div>\n",
              "  </div>\n",
              "  "
            ]
          },
          "metadata": {},
          "execution_count": 6
        }
      ]
    },
    {
      "cell_type": "code",
      "source": [
        "#see the last column (Column1) does not have useful information and the last row too, having most of the data as 'NaN'\n",
        "#deleting the last column from the dataframe\n",
        "\n",
        "spend_df1 = spend_df.drop(['Column1'], axis = 1)\n",
        "spend_df1\n",
        "\n",
        "#notice this dataset only contains data for year 2015 & 2016"
      ],
      "metadata": {
        "colab": {
          "base_uri": "https://localhost:8080/",
          "height": 468
        },
        "id": "KUvY8GYBVEUs",
        "outputId": "72967cd2-fdd5-4ae1-ed24-fe406b88b962"
      },
      "execution_count": 7,
      "outputs": [
        {
          "output_type": "execute_result",
          "data": {
            "text/plain": [
              "       index      Date    Year     Month  Customer Age Customer Gender  \\\n",
              "0          0  02/19/16  2016.0  February          29.0               F   \n",
              "1          1  02/20/16  2016.0  February          29.0               F   \n",
              "2          2  02/27/16  2016.0  February          29.0               F   \n",
              "3          3  03/12/16  2016.0     March          29.0               F   \n",
              "4          4  03/12/16  2016.0     March          29.0               F   \n",
              "...      ...       ...     ...       ...           ...             ...   \n",
              "34862  34862  02/07/16  2016.0  February          38.0               M   \n",
              "34863  34863  03/13/15  2015.0     March          38.0               M   \n",
              "34864  34864  04/05/15  2015.0     April          38.0               M   \n",
              "34865  34865  08/30/15  2015.0    August          38.0               M   \n",
              "34866  34866       NaN     NaN       NaN           NaN             NaN   \n",
              "\n",
              "             Country           State Product Category     Sub Category  \\\n",
              "0      United States      Washington      Accessories  Tires and Tubes   \n",
              "1      United States      Washington         Clothing           Gloves   \n",
              "2      United States      Washington      Accessories  Tires and Tubes   \n",
              "3      United States      Washington      Accessories  Tires and Tubes   \n",
              "4      United States      Washington      Accessories  Tires and Tubes   \n",
              "...              ...             ...              ...              ...   \n",
              "34862         France  Hauts de Seine            Bikes   Mountain Bikes   \n",
              "34863         France  Hauts de Seine            Bikes   Mountain Bikes   \n",
              "34864         France  Hauts de Seine            Bikes   Mountain Bikes   \n",
              "34865         France  Hauts de Seine            Bikes   Mountain Bikes   \n",
              "34866            NaN             NaN              NaN              NaN   \n",
              "\n",
              "       Quantity  Unit Cost   Unit Price    Cost      Revenue  \n",
              "0           1.0      80.00   109.000000    80.0   109.000000  \n",
              "1           2.0      24.50    28.500000    49.0    57.000000  \n",
              "2           3.0       3.67     5.000000    11.0    15.000000  \n",
              "3           2.0      87.50   116.500000   175.0   233.000000  \n",
              "4           3.0      35.00    41.666667   105.0   125.000000  \n",
              "...         ...        ...          ...     ...          ...  \n",
              "34862       2.0    1160.00   985.500000  2320.0  1971.000000  \n",
              "34863       1.0    2049.00  1583.000000  2049.0  1583.000000  \n",
              "34864       3.0     683.00   560.666667  2049.0  1682.000000  \n",
              "34865       1.0    2320.00  1568.000000  2320.0  1568.000000  \n",
              "34866       NaN        NaN          NaN     NaN   641.532095  \n",
              "\n",
              "[34867 rows x 15 columns]"
            ],
            "text/html": [
              "\n",
              "  <div id=\"df-9fb1ebce-c3ba-47f6-a9e1-da54d3ae2f15\">\n",
              "    <div class=\"colab-df-container\">\n",
              "      <div>\n",
              "<style scoped>\n",
              "    .dataframe tbody tr th:only-of-type {\n",
              "        vertical-align: middle;\n",
              "    }\n",
              "\n",
              "    .dataframe tbody tr th {\n",
              "        vertical-align: top;\n",
              "    }\n",
              "\n",
              "    .dataframe thead th {\n",
              "        text-align: right;\n",
              "    }\n",
              "</style>\n",
              "<table border=\"1\" class=\"dataframe\">\n",
              "  <thead>\n",
              "    <tr style=\"text-align: right;\">\n",
              "      <th></th>\n",
              "      <th>index</th>\n",
              "      <th>Date</th>\n",
              "      <th>Year</th>\n",
              "      <th>Month</th>\n",
              "      <th>Customer Age</th>\n",
              "      <th>Customer Gender</th>\n",
              "      <th>Country</th>\n",
              "      <th>State</th>\n",
              "      <th>Product Category</th>\n",
              "      <th>Sub Category</th>\n",
              "      <th>Quantity</th>\n",
              "      <th>Unit Cost</th>\n",
              "      <th>Unit Price</th>\n",
              "      <th>Cost</th>\n",
              "      <th>Revenue</th>\n",
              "    </tr>\n",
              "  </thead>\n",
              "  <tbody>\n",
              "    <tr>\n",
              "      <th>0</th>\n",
              "      <td>0</td>\n",
              "      <td>02/19/16</td>\n",
              "      <td>2016.0</td>\n",
              "      <td>February</td>\n",
              "      <td>29.0</td>\n",
              "      <td>F</td>\n",
              "      <td>United States</td>\n",
              "      <td>Washington</td>\n",
              "      <td>Accessories</td>\n",
              "      <td>Tires and Tubes</td>\n",
              "      <td>1.0</td>\n",
              "      <td>80.00</td>\n",
              "      <td>109.000000</td>\n",
              "      <td>80.0</td>\n",
              "      <td>109.000000</td>\n",
              "    </tr>\n",
              "    <tr>\n",
              "      <th>1</th>\n",
              "      <td>1</td>\n",
              "      <td>02/20/16</td>\n",
              "      <td>2016.0</td>\n",
              "      <td>February</td>\n",
              "      <td>29.0</td>\n",
              "      <td>F</td>\n",
              "      <td>United States</td>\n",
              "      <td>Washington</td>\n",
              "      <td>Clothing</td>\n",
              "      <td>Gloves</td>\n",
              "      <td>2.0</td>\n",
              "      <td>24.50</td>\n",
              "      <td>28.500000</td>\n",
              "      <td>49.0</td>\n",
              "      <td>57.000000</td>\n",
              "    </tr>\n",
              "    <tr>\n",
              "      <th>2</th>\n",
              "      <td>2</td>\n",
              "      <td>02/27/16</td>\n",
              "      <td>2016.0</td>\n",
              "      <td>February</td>\n",
              "      <td>29.0</td>\n",
              "      <td>F</td>\n",
              "      <td>United States</td>\n",
              "      <td>Washington</td>\n",
              "      <td>Accessories</td>\n",
              "      <td>Tires and Tubes</td>\n",
              "      <td>3.0</td>\n",
              "      <td>3.67</td>\n",
              "      <td>5.000000</td>\n",
              "      <td>11.0</td>\n",
              "      <td>15.000000</td>\n",
              "    </tr>\n",
              "    <tr>\n",
              "      <th>3</th>\n",
              "      <td>3</td>\n",
              "      <td>03/12/16</td>\n",
              "      <td>2016.0</td>\n",
              "      <td>March</td>\n",
              "      <td>29.0</td>\n",
              "      <td>F</td>\n",
              "      <td>United States</td>\n",
              "      <td>Washington</td>\n",
              "      <td>Accessories</td>\n",
              "      <td>Tires and Tubes</td>\n",
              "      <td>2.0</td>\n",
              "      <td>87.50</td>\n",
              "      <td>116.500000</td>\n",
              "      <td>175.0</td>\n",
              "      <td>233.000000</td>\n",
              "    </tr>\n",
              "    <tr>\n",
              "      <th>4</th>\n",
              "      <td>4</td>\n",
              "      <td>03/12/16</td>\n",
              "      <td>2016.0</td>\n",
              "      <td>March</td>\n",
              "      <td>29.0</td>\n",
              "      <td>F</td>\n",
              "      <td>United States</td>\n",
              "      <td>Washington</td>\n",
              "      <td>Accessories</td>\n",
              "      <td>Tires and Tubes</td>\n",
              "      <td>3.0</td>\n",
              "      <td>35.00</td>\n",
              "      <td>41.666667</td>\n",
              "      <td>105.0</td>\n",
              "      <td>125.000000</td>\n",
              "    </tr>\n",
              "    <tr>\n",
              "      <th>...</th>\n",
              "      <td>...</td>\n",
              "      <td>...</td>\n",
              "      <td>...</td>\n",
              "      <td>...</td>\n",
              "      <td>...</td>\n",
              "      <td>...</td>\n",
              "      <td>...</td>\n",
              "      <td>...</td>\n",
              "      <td>...</td>\n",
              "      <td>...</td>\n",
              "      <td>...</td>\n",
              "      <td>...</td>\n",
              "      <td>...</td>\n",
              "      <td>...</td>\n",
              "      <td>...</td>\n",
              "    </tr>\n",
              "    <tr>\n",
              "      <th>34862</th>\n",
              "      <td>34862</td>\n",
              "      <td>02/07/16</td>\n",
              "      <td>2016.0</td>\n",
              "      <td>February</td>\n",
              "      <td>38.0</td>\n",
              "      <td>M</td>\n",
              "      <td>France</td>\n",
              "      <td>Hauts de Seine</td>\n",
              "      <td>Bikes</td>\n",
              "      <td>Mountain Bikes</td>\n",
              "      <td>2.0</td>\n",
              "      <td>1160.00</td>\n",
              "      <td>985.500000</td>\n",
              "      <td>2320.0</td>\n",
              "      <td>1971.000000</td>\n",
              "    </tr>\n",
              "    <tr>\n",
              "      <th>34863</th>\n",
              "      <td>34863</td>\n",
              "      <td>03/13/15</td>\n",
              "      <td>2015.0</td>\n",
              "      <td>March</td>\n",
              "      <td>38.0</td>\n",
              "      <td>M</td>\n",
              "      <td>France</td>\n",
              "      <td>Hauts de Seine</td>\n",
              "      <td>Bikes</td>\n",
              "      <td>Mountain Bikes</td>\n",
              "      <td>1.0</td>\n",
              "      <td>2049.00</td>\n",
              "      <td>1583.000000</td>\n",
              "      <td>2049.0</td>\n",
              "      <td>1583.000000</td>\n",
              "    </tr>\n",
              "    <tr>\n",
              "      <th>34864</th>\n",
              "      <td>34864</td>\n",
              "      <td>04/05/15</td>\n",
              "      <td>2015.0</td>\n",
              "      <td>April</td>\n",
              "      <td>38.0</td>\n",
              "      <td>M</td>\n",
              "      <td>France</td>\n",
              "      <td>Hauts de Seine</td>\n",
              "      <td>Bikes</td>\n",
              "      <td>Mountain Bikes</td>\n",
              "      <td>3.0</td>\n",
              "      <td>683.00</td>\n",
              "      <td>560.666667</td>\n",
              "      <td>2049.0</td>\n",
              "      <td>1682.000000</td>\n",
              "    </tr>\n",
              "    <tr>\n",
              "      <th>34865</th>\n",
              "      <td>34865</td>\n",
              "      <td>08/30/15</td>\n",
              "      <td>2015.0</td>\n",
              "      <td>August</td>\n",
              "      <td>38.0</td>\n",
              "      <td>M</td>\n",
              "      <td>France</td>\n",
              "      <td>Hauts de Seine</td>\n",
              "      <td>Bikes</td>\n",
              "      <td>Mountain Bikes</td>\n",
              "      <td>1.0</td>\n",
              "      <td>2320.00</td>\n",
              "      <td>1568.000000</td>\n",
              "      <td>2320.0</td>\n",
              "      <td>1568.000000</td>\n",
              "    </tr>\n",
              "    <tr>\n",
              "      <th>34866</th>\n",
              "      <td>34866</td>\n",
              "      <td>NaN</td>\n",
              "      <td>NaN</td>\n",
              "      <td>NaN</td>\n",
              "      <td>NaN</td>\n",
              "      <td>NaN</td>\n",
              "      <td>NaN</td>\n",
              "      <td>NaN</td>\n",
              "      <td>NaN</td>\n",
              "      <td>NaN</td>\n",
              "      <td>NaN</td>\n",
              "      <td>NaN</td>\n",
              "      <td>NaN</td>\n",
              "      <td>NaN</td>\n",
              "      <td>641.532095</td>\n",
              "    </tr>\n",
              "  </tbody>\n",
              "</table>\n",
              "<p>34867 rows × 15 columns</p>\n",
              "</div>\n",
              "      <button class=\"colab-df-convert\" onclick=\"convertToInteractive('df-9fb1ebce-c3ba-47f6-a9e1-da54d3ae2f15')\"\n",
              "              title=\"Convert this dataframe to an interactive table.\"\n",
              "              style=\"display:none;\">\n",
              "        \n",
              "  <svg xmlns=\"http://www.w3.org/2000/svg\" height=\"24px\"viewBox=\"0 0 24 24\"\n",
              "       width=\"24px\">\n",
              "    <path d=\"M0 0h24v24H0V0z\" fill=\"none\"/>\n",
              "    <path d=\"M18.56 5.44l.94 2.06.94-2.06 2.06-.94-2.06-.94-.94-2.06-.94 2.06-2.06.94zm-11 1L8.5 8.5l.94-2.06 2.06-.94-2.06-.94L8.5 2.5l-.94 2.06-2.06.94zm10 10l.94 2.06.94-2.06 2.06-.94-2.06-.94-.94-2.06-.94 2.06-2.06.94z\"/><path d=\"M17.41 7.96l-1.37-1.37c-.4-.4-.92-.59-1.43-.59-.52 0-1.04.2-1.43.59L10.3 9.45l-7.72 7.72c-.78.78-.78 2.05 0 2.83L4 21.41c.39.39.9.59 1.41.59.51 0 1.02-.2 1.41-.59l7.78-7.78 2.81-2.81c.8-.78.8-2.07 0-2.86zM5.41 20L4 18.59l7.72-7.72 1.47 1.35L5.41 20z\"/>\n",
              "  </svg>\n",
              "      </button>\n",
              "      \n",
              "  <style>\n",
              "    .colab-df-container {\n",
              "      display:flex;\n",
              "      flex-wrap:wrap;\n",
              "      gap: 12px;\n",
              "    }\n",
              "\n",
              "    .colab-df-convert {\n",
              "      background-color: #E8F0FE;\n",
              "      border: none;\n",
              "      border-radius: 50%;\n",
              "      cursor: pointer;\n",
              "      display: none;\n",
              "      fill: #1967D2;\n",
              "      height: 32px;\n",
              "      padding: 0 0 0 0;\n",
              "      width: 32px;\n",
              "    }\n",
              "\n",
              "    .colab-df-convert:hover {\n",
              "      background-color: #E2EBFA;\n",
              "      box-shadow: 0px 1px 2px rgba(60, 64, 67, 0.3), 0px 1px 3px 1px rgba(60, 64, 67, 0.15);\n",
              "      fill: #174EA6;\n",
              "    }\n",
              "\n",
              "    [theme=dark] .colab-df-convert {\n",
              "      background-color: #3B4455;\n",
              "      fill: #D2E3FC;\n",
              "    }\n",
              "\n",
              "    [theme=dark] .colab-df-convert:hover {\n",
              "      background-color: #434B5C;\n",
              "      box-shadow: 0px 1px 3px 1px rgba(0, 0, 0, 0.15);\n",
              "      filter: drop-shadow(0px 1px 2px rgba(0, 0, 0, 0.3));\n",
              "      fill: #FFFFFF;\n",
              "    }\n",
              "  </style>\n",
              "\n",
              "      <script>\n",
              "        const buttonEl =\n",
              "          document.querySelector('#df-9fb1ebce-c3ba-47f6-a9e1-da54d3ae2f15 button.colab-df-convert');\n",
              "        buttonEl.style.display =\n",
              "          google.colab.kernel.accessAllowed ? 'block' : 'none';\n",
              "\n",
              "        async function convertToInteractive(key) {\n",
              "          const element = document.querySelector('#df-9fb1ebce-c3ba-47f6-a9e1-da54d3ae2f15');\n",
              "          const dataTable =\n",
              "            await google.colab.kernel.invokeFunction('convertToInteractive',\n",
              "                                                     [key], {});\n",
              "          if (!dataTable) return;\n",
              "\n",
              "          const docLinkHtml = 'Like what you see? Visit the ' +\n",
              "            '<a target=\"_blank\" href=https://colab.research.google.com/notebooks/data_table.ipynb>data table notebook</a>'\n",
              "            + ' to learn more about interactive tables.';\n",
              "          element.innerHTML = '';\n",
              "          dataTable['output_type'] = 'display_data';\n",
              "          await google.colab.output.renderOutput(dataTable, element);\n",
              "          const docLink = document.createElement('div');\n",
              "          docLink.innerHTML = docLinkHtml;\n",
              "          element.appendChild(docLink);\n",
              "        }\n",
              "      </script>\n",
              "    </div>\n",
              "  </div>\n",
              "  "
            ]
          },
          "metadata": {},
          "execution_count": 7
        }
      ]
    },
    {
      "cell_type": "code",
      "source": [
        "#deleting the last row from the dataset\n",
        "\n",
        "spend = spend_df1.drop([34866])\n",
        "spend"
      ],
      "metadata": {
        "colab": {
          "base_uri": "https://localhost:8080/",
          "height": 468
        },
        "id": "das07IDFXDcI",
        "outputId": "f773147f-47aa-43dd-af5e-af710197946f"
      },
      "execution_count": 8,
      "outputs": [
        {
          "output_type": "execute_result",
          "data": {
            "text/plain": [
              "       index      Date    Year     Month  Customer Age Customer Gender  \\\n",
              "0          0  02/19/16  2016.0  February          29.0               F   \n",
              "1          1  02/20/16  2016.0  February          29.0               F   \n",
              "2          2  02/27/16  2016.0  February          29.0               F   \n",
              "3          3  03/12/16  2016.0     March          29.0               F   \n",
              "4          4  03/12/16  2016.0     March          29.0               F   \n",
              "...      ...       ...     ...       ...           ...             ...   \n",
              "34861  34861  03/22/15  2015.0     March          38.0               M   \n",
              "34862  34862  02/07/16  2016.0  February          38.0               M   \n",
              "34863  34863  03/13/15  2015.0     March          38.0               M   \n",
              "34864  34864  04/05/15  2015.0     April          38.0               M   \n",
              "34865  34865  08/30/15  2015.0    August          38.0               M   \n",
              "\n",
              "             Country              State Product Category     Sub Category  \\\n",
              "0      United States         Washington      Accessories  Tires and Tubes   \n",
              "1      United States         Washington         Clothing           Gloves   \n",
              "2      United States         Washington      Accessories  Tires and Tubes   \n",
              "3      United States         Washington      Accessories  Tires and Tubes   \n",
              "4      United States         Washington      Accessories  Tires and Tubes   \n",
              "...              ...                ...              ...              ...   \n",
              "34861         France  Charente-Maritime            Bikes   Mountain Bikes   \n",
              "34862         France     Hauts de Seine            Bikes   Mountain Bikes   \n",
              "34863         France     Hauts de Seine            Bikes   Mountain Bikes   \n",
              "34864         France     Hauts de Seine            Bikes   Mountain Bikes   \n",
              "34865         France     Hauts de Seine            Bikes   Mountain Bikes   \n",
              "\n",
              "       Quantity  Unit Cost   Unit Price    Cost  Revenue  \n",
              "0           1.0      80.00   109.000000    80.0    109.0  \n",
              "1           2.0      24.50    28.500000    49.0     57.0  \n",
              "2           3.0       3.67     5.000000    11.0     15.0  \n",
              "3           2.0      87.50   116.500000   175.0    233.0  \n",
              "4           3.0      35.00    41.666667   105.0    125.0  \n",
              "...         ...        ...          ...     ...      ...  \n",
              "34861       1.0    2049.00  1487.000000  2049.0   1487.0  \n",
              "34862       2.0    1160.00   985.500000  2320.0   1971.0  \n",
              "34863       1.0    2049.00  1583.000000  2049.0   1583.0  \n",
              "34864       3.0     683.00   560.666667  2049.0   1682.0  \n",
              "34865       1.0    2320.00  1568.000000  2320.0   1568.0  \n",
              "\n",
              "[34866 rows x 15 columns]"
            ],
            "text/html": [
              "\n",
              "  <div id=\"df-73d63397-211d-471c-a59e-5bb1074ef837\">\n",
              "    <div class=\"colab-df-container\">\n",
              "      <div>\n",
              "<style scoped>\n",
              "    .dataframe tbody tr th:only-of-type {\n",
              "        vertical-align: middle;\n",
              "    }\n",
              "\n",
              "    .dataframe tbody tr th {\n",
              "        vertical-align: top;\n",
              "    }\n",
              "\n",
              "    .dataframe thead th {\n",
              "        text-align: right;\n",
              "    }\n",
              "</style>\n",
              "<table border=\"1\" class=\"dataframe\">\n",
              "  <thead>\n",
              "    <tr style=\"text-align: right;\">\n",
              "      <th></th>\n",
              "      <th>index</th>\n",
              "      <th>Date</th>\n",
              "      <th>Year</th>\n",
              "      <th>Month</th>\n",
              "      <th>Customer Age</th>\n",
              "      <th>Customer Gender</th>\n",
              "      <th>Country</th>\n",
              "      <th>State</th>\n",
              "      <th>Product Category</th>\n",
              "      <th>Sub Category</th>\n",
              "      <th>Quantity</th>\n",
              "      <th>Unit Cost</th>\n",
              "      <th>Unit Price</th>\n",
              "      <th>Cost</th>\n",
              "      <th>Revenue</th>\n",
              "    </tr>\n",
              "  </thead>\n",
              "  <tbody>\n",
              "    <tr>\n",
              "      <th>0</th>\n",
              "      <td>0</td>\n",
              "      <td>02/19/16</td>\n",
              "      <td>2016.0</td>\n",
              "      <td>February</td>\n",
              "      <td>29.0</td>\n",
              "      <td>F</td>\n",
              "      <td>United States</td>\n",
              "      <td>Washington</td>\n",
              "      <td>Accessories</td>\n",
              "      <td>Tires and Tubes</td>\n",
              "      <td>1.0</td>\n",
              "      <td>80.00</td>\n",
              "      <td>109.000000</td>\n",
              "      <td>80.0</td>\n",
              "      <td>109.0</td>\n",
              "    </tr>\n",
              "    <tr>\n",
              "      <th>1</th>\n",
              "      <td>1</td>\n",
              "      <td>02/20/16</td>\n",
              "      <td>2016.0</td>\n",
              "      <td>February</td>\n",
              "      <td>29.0</td>\n",
              "      <td>F</td>\n",
              "      <td>United States</td>\n",
              "      <td>Washington</td>\n",
              "      <td>Clothing</td>\n",
              "      <td>Gloves</td>\n",
              "      <td>2.0</td>\n",
              "      <td>24.50</td>\n",
              "      <td>28.500000</td>\n",
              "      <td>49.0</td>\n",
              "      <td>57.0</td>\n",
              "    </tr>\n",
              "    <tr>\n",
              "      <th>2</th>\n",
              "      <td>2</td>\n",
              "      <td>02/27/16</td>\n",
              "      <td>2016.0</td>\n",
              "      <td>February</td>\n",
              "      <td>29.0</td>\n",
              "      <td>F</td>\n",
              "      <td>United States</td>\n",
              "      <td>Washington</td>\n",
              "      <td>Accessories</td>\n",
              "      <td>Tires and Tubes</td>\n",
              "      <td>3.0</td>\n",
              "      <td>3.67</td>\n",
              "      <td>5.000000</td>\n",
              "      <td>11.0</td>\n",
              "      <td>15.0</td>\n",
              "    </tr>\n",
              "    <tr>\n",
              "      <th>3</th>\n",
              "      <td>3</td>\n",
              "      <td>03/12/16</td>\n",
              "      <td>2016.0</td>\n",
              "      <td>March</td>\n",
              "      <td>29.0</td>\n",
              "      <td>F</td>\n",
              "      <td>United States</td>\n",
              "      <td>Washington</td>\n",
              "      <td>Accessories</td>\n",
              "      <td>Tires and Tubes</td>\n",
              "      <td>2.0</td>\n",
              "      <td>87.50</td>\n",
              "      <td>116.500000</td>\n",
              "      <td>175.0</td>\n",
              "      <td>233.0</td>\n",
              "    </tr>\n",
              "    <tr>\n",
              "      <th>4</th>\n",
              "      <td>4</td>\n",
              "      <td>03/12/16</td>\n",
              "      <td>2016.0</td>\n",
              "      <td>March</td>\n",
              "      <td>29.0</td>\n",
              "      <td>F</td>\n",
              "      <td>United States</td>\n",
              "      <td>Washington</td>\n",
              "      <td>Accessories</td>\n",
              "      <td>Tires and Tubes</td>\n",
              "      <td>3.0</td>\n",
              "      <td>35.00</td>\n",
              "      <td>41.666667</td>\n",
              "      <td>105.0</td>\n",
              "      <td>125.0</td>\n",
              "    </tr>\n",
              "    <tr>\n",
              "      <th>...</th>\n",
              "      <td>...</td>\n",
              "      <td>...</td>\n",
              "      <td>...</td>\n",
              "      <td>...</td>\n",
              "      <td>...</td>\n",
              "      <td>...</td>\n",
              "      <td>...</td>\n",
              "      <td>...</td>\n",
              "      <td>...</td>\n",
              "      <td>...</td>\n",
              "      <td>...</td>\n",
              "      <td>...</td>\n",
              "      <td>...</td>\n",
              "      <td>...</td>\n",
              "      <td>...</td>\n",
              "    </tr>\n",
              "    <tr>\n",
              "      <th>34861</th>\n",
              "      <td>34861</td>\n",
              "      <td>03/22/15</td>\n",
              "      <td>2015.0</td>\n",
              "      <td>March</td>\n",
              "      <td>38.0</td>\n",
              "      <td>M</td>\n",
              "      <td>France</td>\n",
              "      <td>Charente-Maritime</td>\n",
              "      <td>Bikes</td>\n",
              "      <td>Mountain Bikes</td>\n",
              "      <td>1.0</td>\n",
              "      <td>2049.00</td>\n",
              "      <td>1487.000000</td>\n",
              "      <td>2049.0</td>\n",
              "      <td>1487.0</td>\n",
              "    </tr>\n",
              "    <tr>\n",
              "      <th>34862</th>\n",
              "      <td>34862</td>\n",
              "      <td>02/07/16</td>\n",
              "      <td>2016.0</td>\n",
              "      <td>February</td>\n",
              "      <td>38.0</td>\n",
              "      <td>M</td>\n",
              "      <td>France</td>\n",
              "      <td>Hauts de Seine</td>\n",
              "      <td>Bikes</td>\n",
              "      <td>Mountain Bikes</td>\n",
              "      <td>2.0</td>\n",
              "      <td>1160.00</td>\n",
              "      <td>985.500000</td>\n",
              "      <td>2320.0</td>\n",
              "      <td>1971.0</td>\n",
              "    </tr>\n",
              "    <tr>\n",
              "      <th>34863</th>\n",
              "      <td>34863</td>\n",
              "      <td>03/13/15</td>\n",
              "      <td>2015.0</td>\n",
              "      <td>March</td>\n",
              "      <td>38.0</td>\n",
              "      <td>M</td>\n",
              "      <td>France</td>\n",
              "      <td>Hauts de Seine</td>\n",
              "      <td>Bikes</td>\n",
              "      <td>Mountain Bikes</td>\n",
              "      <td>1.0</td>\n",
              "      <td>2049.00</td>\n",
              "      <td>1583.000000</td>\n",
              "      <td>2049.0</td>\n",
              "      <td>1583.0</td>\n",
              "    </tr>\n",
              "    <tr>\n",
              "      <th>34864</th>\n",
              "      <td>34864</td>\n",
              "      <td>04/05/15</td>\n",
              "      <td>2015.0</td>\n",
              "      <td>April</td>\n",
              "      <td>38.0</td>\n",
              "      <td>M</td>\n",
              "      <td>France</td>\n",
              "      <td>Hauts de Seine</td>\n",
              "      <td>Bikes</td>\n",
              "      <td>Mountain Bikes</td>\n",
              "      <td>3.0</td>\n",
              "      <td>683.00</td>\n",
              "      <td>560.666667</td>\n",
              "      <td>2049.0</td>\n",
              "      <td>1682.0</td>\n",
              "    </tr>\n",
              "    <tr>\n",
              "      <th>34865</th>\n",
              "      <td>34865</td>\n",
              "      <td>08/30/15</td>\n",
              "      <td>2015.0</td>\n",
              "      <td>August</td>\n",
              "      <td>38.0</td>\n",
              "      <td>M</td>\n",
              "      <td>France</td>\n",
              "      <td>Hauts de Seine</td>\n",
              "      <td>Bikes</td>\n",
              "      <td>Mountain Bikes</td>\n",
              "      <td>1.0</td>\n",
              "      <td>2320.00</td>\n",
              "      <td>1568.000000</td>\n",
              "      <td>2320.0</td>\n",
              "      <td>1568.0</td>\n",
              "    </tr>\n",
              "  </tbody>\n",
              "</table>\n",
              "<p>34866 rows × 15 columns</p>\n",
              "</div>\n",
              "      <button class=\"colab-df-convert\" onclick=\"convertToInteractive('df-73d63397-211d-471c-a59e-5bb1074ef837')\"\n",
              "              title=\"Convert this dataframe to an interactive table.\"\n",
              "              style=\"display:none;\">\n",
              "        \n",
              "  <svg xmlns=\"http://www.w3.org/2000/svg\" height=\"24px\"viewBox=\"0 0 24 24\"\n",
              "       width=\"24px\">\n",
              "    <path d=\"M0 0h24v24H0V0z\" fill=\"none\"/>\n",
              "    <path d=\"M18.56 5.44l.94 2.06.94-2.06 2.06-.94-2.06-.94-.94-2.06-.94 2.06-2.06.94zm-11 1L8.5 8.5l.94-2.06 2.06-.94-2.06-.94L8.5 2.5l-.94 2.06-2.06.94zm10 10l.94 2.06.94-2.06 2.06-.94-2.06-.94-.94-2.06-.94 2.06-2.06.94z\"/><path d=\"M17.41 7.96l-1.37-1.37c-.4-.4-.92-.59-1.43-.59-.52 0-1.04.2-1.43.59L10.3 9.45l-7.72 7.72c-.78.78-.78 2.05 0 2.83L4 21.41c.39.39.9.59 1.41.59.51 0 1.02-.2 1.41-.59l7.78-7.78 2.81-2.81c.8-.78.8-2.07 0-2.86zM5.41 20L4 18.59l7.72-7.72 1.47 1.35L5.41 20z\"/>\n",
              "  </svg>\n",
              "      </button>\n",
              "      \n",
              "  <style>\n",
              "    .colab-df-container {\n",
              "      display:flex;\n",
              "      flex-wrap:wrap;\n",
              "      gap: 12px;\n",
              "    }\n",
              "\n",
              "    .colab-df-convert {\n",
              "      background-color: #E8F0FE;\n",
              "      border: none;\n",
              "      border-radius: 50%;\n",
              "      cursor: pointer;\n",
              "      display: none;\n",
              "      fill: #1967D2;\n",
              "      height: 32px;\n",
              "      padding: 0 0 0 0;\n",
              "      width: 32px;\n",
              "    }\n",
              "\n",
              "    .colab-df-convert:hover {\n",
              "      background-color: #E2EBFA;\n",
              "      box-shadow: 0px 1px 2px rgba(60, 64, 67, 0.3), 0px 1px 3px 1px rgba(60, 64, 67, 0.15);\n",
              "      fill: #174EA6;\n",
              "    }\n",
              "\n",
              "    [theme=dark] .colab-df-convert {\n",
              "      background-color: #3B4455;\n",
              "      fill: #D2E3FC;\n",
              "    }\n",
              "\n",
              "    [theme=dark] .colab-df-convert:hover {\n",
              "      background-color: #434B5C;\n",
              "      box-shadow: 0px 1px 3px 1px rgba(0, 0, 0, 0.15);\n",
              "      filter: drop-shadow(0px 1px 2px rgba(0, 0, 0, 0.3));\n",
              "      fill: #FFFFFF;\n",
              "    }\n",
              "  </style>\n",
              "\n",
              "      <script>\n",
              "        const buttonEl =\n",
              "          document.querySelector('#df-73d63397-211d-471c-a59e-5bb1074ef837 button.colab-df-convert');\n",
              "        buttonEl.style.display =\n",
              "          google.colab.kernel.accessAllowed ? 'block' : 'none';\n",
              "\n",
              "        async function convertToInteractive(key) {\n",
              "          const element = document.querySelector('#df-73d63397-211d-471c-a59e-5bb1074ef837');\n",
              "          const dataTable =\n",
              "            await google.colab.kernel.invokeFunction('convertToInteractive',\n",
              "                                                     [key], {});\n",
              "          if (!dataTable) return;\n",
              "\n",
              "          const docLinkHtml = 'Like what you see? Visit the ' +\n",
              "            '<a target=\"_blank\" href=https://colab.research.google.com/notebooks/data_table.ipynb>data table notebook</a>'\n",
              "            + ' to learn more about interactive tables.';\n",
              "          element.innerHTML = '';\n",
              "          dataTable['output_type'] = 'display_data';\n",
              "          await google.colab.output.renderOutput(dataTable, element);\n",
              "          const docLink = document.createElement('div');\n",
              "          docLink.innerHTML = docLinkHtml;\n",
              "          element.appendChild(docLink);\n",
              "        }\n",
              "      </script>\n",
              "    </div>\n",
              "  </div>\n",
              "  "
            ]
          },
          "metadata": {},
          "execution_count": 8
        }
      ]
    },
    {
      "cell_type": "code",
      "source": [
        "spend['Customer Age'].min()"
      ],
      "metadata": {
        "colab": {
          "base_uri": "https://localhost:8080/"
        },
        "id": "640oWEpg1oO7",
        "outputId": "0bdfe594-5385-4cd7-e970-4ecc46b02257"
      },
      "execution_count": 9,
      "outputs": [
        {
          "output_type": "execute_result",
          "data": {
            "text/plain": [
              "17.0"
            ]
          },
          "metadata": {},
          "execution_count": 9
        }
      ]
    },
    {
      "cell_type": "code",
      "source": [
        "spend['Customer Age'].max()"
      ],
      "metadata": {
        "colab": {
          "base_uri": "https://localhost:8080/"
        },
        "id": "zGn8s5bm3wMQ",
        "outputId": "3f8e39e8-0e09-4eaf-fa1d-e65f870c06d5"
      },
      "execution_count": 10,
      "outputs": [
        {
          "output_type": "execute_result",
          "data": {
            "text/plain": [
              "87.0"
            ]
          },
          "metadata": {},
          "execution_count": 10
        }
      ]
    },
    {
      "cell_type": "code",
      "source": [
        "#changing plot background format\n",
        "\n",
        "sns.set_style(\"darkgrid\")"
      ],
      "metadata": {
        "id": "EKm-aDTOLKNq"
      },
      "execution_count": 11,
      "outputs": []
    },
    {
      "cell_type": "code",
      "source": [
        "plt.title('Distribution of customer age')\n",
        "plt.hist(spend['Customer Age'],\n",
        "         bins = np.arange(10, 90, 5));"
      ],
      "metadata": {
        "colab": {
          "base_uri": "https://localhost:8080/",
          "height": 281
        },
        "id": "H3q3pfB63yQm",
        "outputId": "83e01bee-463f-4fdb-d9b9-b61129e27207"
      },
      "execution_count": 12,
      "outputs": [
        {
          "output_type": "display_data",
          "data": {
            "text/plain": [
              "<Figure size 432x288 with 1 Axes>"
            ],
            "image/png": "[encoded data removed]"
          },
          "metadata": {}
        }
      ]
    },
    {
      "cell_type": "code",
      "source": [
        "#total spending by Males\n",
        "\n",
        "male_spend = spend[spend['Customer Gender'] == 'M']['Cost'].sum()\n",
        "male_spend"
      ],
      "metadata": {
        "colab": {
          "base_uri": "https://localhost:8080/"
        },
        "id": "1LBh9OU0Gve6",
        "outputId": "549d959d-2fce-4261-a490-37d818cf14cd"
      },
      "execution_count": 13,
      "outputs": [
        {
          "output_type": "execute_result",
          "data": {
            "text/plain": [
              "10248690.0"
            ]
          },
          "metadata": {},
          "execution_count": 13
        }
      ]
    },
    {
      "cell_type": "code",
      "source": [
        "#total spending by Males in year 2015\n",
        "\n",
        "male_spend_2015 = spend.loc[spend['Customer Gender'] == 'M'][spend['Year'] == 2015]['Cost'].sum()\n",
        "male_spend_2015"
      ],
      "metadata": {
        "colab": {
          "base_uri": "https://localhost:8080/"
        },
        "id": "Dh7XuddtT8L-",
        "outputId": "444d2002-e3d6-46a5-a579-b4954fa23ce8"
      },
      "execution_count": 14,
      "outputs": [
        {
          "output_type": "stream",
          "name": "stderr",
          "text": [
            "<ipython-input-14-7d294c0158d4>:3: UserWarning: Boolean Series key will be reindexed to match DataFrame index.\n",
            "  male_spend_2015 = spend.loc[spend['Customer Gender'] == 'M'][spend['Year'] == 2015]['Cost'].sum()\n"
          ]
        },
        {
          "output_type": "execute_result",
          "data": {
            "text/plain": [
              "4764497.0"
            ]
          },
          "metadata": {},
          "execution_count": 14
        }
      ]
    },
    {
      "cell_type": "code",
      "source": [
        "#total spending by Males in year 2016\n",
        "\n",
        "male_spend_2016 = spend.loc[spend['Customer Gender'] == 'M'][spend['Year'] == 2016]['Cost'].sum()\n",
        "male_spend_2016"
      ],
      "metadata": {
        "colab": {
          "base_uri": "https://localhost:8080/"
        },
        "id": "H3AVkYw-Z_S0",
        "outputId": "103631a2-c511-45f8-8301-8ac151d4d48f"
      },
      "execution_count": 15,
      "outputs": [
        {
          "output_type": "stream",
          "name": "stderr",
          "text": [
            "<ipython-input-15-0a73af725faf>:3: UserWarning: Boolean Series key will be reindexed to match DataFrame index.\n",
            "  male_spend_2016 = spend.loc[spend['Customer Gender'] == 'M'][spend['Year'] == 2016]['Cost'].sum()\n"
          ]
        },
        {
          "output_type": "execute_result",
          "data": {
            "text/plain": [
              "5484193.0"
            ]
          },
          "metadata": {},
          "execution_count": 15
        }
      ]
    },
    {
      "cell_type": "code",
      "source": [
        "#total spending by Females\n",
        "\n",
        "female_spend = spend[spend['Customer Gender'] == 'F']['Cost'].sum()\n",
        "female_spend"
      ],
      "metadata": {
        "colab": {
          "base_uri": "https://localhost:8080/"
        },
        "id": "q5P56u9xM2vD",
        "outputId": "1db7439c-19df-4e9d-a212-9ac8ea701ec4"
      },
      "execution_count": 16,
      "outputs": [
        {
          "output_type": "execute_result",
          "data": {
            "text/plain": [
              "9834284.0"
            ]
          },
          "metadata": {},
          "execution_count": 16
        }
      ]
    },
    {
      "cell_type": "code",
      "source": [
        "#total spending by Females in year 2015\n",
        "\n",
        "male_spend_2015 = spend.loc[spend['Customer Gender'] == 'F'][spend['Year'] == 2015]['Cost'].sum()\n",
        "male_spend_2015"
      ],
      "metadata": {
        "colab": {
          "base_uri": "https://localhost:8080/"
        },
        "id": "bJenv8HJOs-e",
        "outputId": "088401df-6639-4977-fd44-dbc291d19e71"
      },
      "execution_count": 17,
      "outputs": [
        {
          "output_type": "stream",
          "name": "stderr",
          "text": [
            "<ipython-input-17-90502c6170b0>:3: UserWarning: Boolean Series key will be reindexed to match DataFrame index.\n",
            "  male_spend_2015 = spend.loc[spend['Customer Gender'] == 'F'][spend['Year'] == 2015]['Cost'].sum()\n"
          ]
        },
        {
          "output_type": "execute_result",
          "data": {
            "text/plain": [
              "4894654.0"
            ]
          },
          "metadata": {},
          "execution_count": 17
        }
      ]
    },
    {
      "cell_type": "code",
      "source": [
        "#total spending by Females in year 2016\n",
        "\n",
        "male_spend_2016 = spend.loc[spend['Customer Gender'] == 'F'][spend['Year'] == 2016]['Cost'].sum()\n",
        "male_spend_2016"
      ],
      "metadata": {
        "colab": {
          "base_uri": "https://localhost:8080/"
        },
        "id": "jkrOK7cgcALc",
        "outputId": "bb2795de-d7b3-448a-ccda-8fe495bda46e"
      },
      "execution_count": 18,
      "outputs": [
        {
          "output_type": "stream",
          "name": "stderr",
          "text": [
            "<ipython-input-18-7174ec8d64bb>:3: UserWarning: Boolean Series key will be reindexed to match DataFrame index.\n",
            "  male_spend_2016 = spend.loc[spend['Customer Gender'] == 'F'][spend['Year'] == 2016]['Cost'].sum()\n"
          ]
        },
        {
          "output_type": "execute_result",
          "data": {
            "text/plain": [
              "4939630.0"
            ]
          },
          "metadata": {},
          "execution_count": 18
        }
      ]
    },
    {
      "cell_type": "code",
      "source": [
        "#separating data by Gender\n",
        "\n",
        "spend_male = spend[spend['Customer Gender'] == 'M']\n",
        "spend_female = spend[spend['Customer Gender'] == 'F']"
      ],
      "metadata": {
        "id": "o5vVHGwscEBM"
      },
      "execution_count": 19,
      "outputs": []
    },
    {
      "cell_type": "code",
      "source": [
        "#filtering data by Year\n",
        "\n",
        "spend_2015 = spend[spend['Year'] == 2015]\n",
        "spend_2016 = spend[spend['Year'] == 2016]"
      ],
      "metadata": {
        "id": "4QUQZaUjd1Kl"
      },
      "execution_count": 20,
      "outputs": []
    },
    {
      "cell_type": "code",
      "source": [
        "plt.title('Distribution of money spend by Males & Females')\n",
        "plt.hist([spend_male.Cost, spend_female.Cost],\n",
        "         bins = np.arange(0, 2500, 250),\n",
        "         stacked = True)\n",
        "plt.legend(['M', 'F']);"
      ],
      "metadata": {
        "colab": {
          "base_uri": "https://localhost:8080/",
          "height": 370
        },
        "id": "fyUbNJEhf-Lh",
        "outputId": "a4b04425-14e9-46bc-e712-8a1a038c6051"
      },
      "execution_count": 21,
      "outputs": [
        {
          "output_type": "stream",
          "name": "stderr",
          "text": [
            "/usr/local/lib/python3.8/dist-packages/numpy/core/fromnumeric.py:3208: VisibleDeprecationWarning: Creating an ndarray from ragged nested sequences (which is a list-or-tuple of lists-or-tuples-or ndarrays with different lengths or shapes) is deprecated. If you meant to do this, you must specify 'dtype=object' when creating the ndarray.\n",
            "  return asarray(a).size\n",
            "/usr/local/lib/python3.8/dist-packages/matplotlib/cbook/__init__.py:1376: VisibleDeprecationWarning: Creating an ndarray from ragged nested sequences (which is a list-or-tuple of lists-or-tuples-or ndarrays with different lengths or shapes) is deprecated. If you meant to do this, you must specify 'dtype=object' when creating the ndarray.\n",
            "  X = np.atleast_1d(X.T if isinstance(X, np.ndarray) else np.asarray(X))\n"
          ]
        },
        {
          "output_type": "display_data",
          "data": {
            "text/plain": [
              "<Figure size 432x288 with 1 Axes>"
            ],
            "image/png": "[encoded data removed]"
          },
          "metadata": {}
        }
      ]
    },
    {
      "cell_type": "code",
      "source": [
        "#country-wise total spend in 2015-16\n",
        "\n",
        "total_spend_country = spend.groupby('Country').Cost.sum()\n",
        "total_spend_country"
      ],
      "metadata": {
        "colab": {
          "base_uri": "https://localhost:8080/"
        },
        "id": "IA4qpkt9hign",
        "outputId": "c57a8fc0-385b-4176-8f86-dc147273329a"
      },
      "execution_count": 22,
      "outputs": [
        {
          "output_type": "execute_result",
          "data": {
            "text/plain": [
              "Country\n",
              "France            3173447.0\n",
              "Germany           3285685.0\n",
              "United Kingdom    3947265.0\n",
              "United States     9676577.0\n",
              "Name: Cost, dtype: float64"
            ]
          },
          "metadata": {},
          "execution_count": 22
        }
      ]
    },
    {
      "cell_type": "code",
      "source": [
        "plt.title('Total spend by Country')\n",
        "plt.xlabel('Country')\n",
        "plt.ylabel('Spend')\n",
        "sns.barplot(total_spend_country.index, total_spend_country);"
      ],
      "metadata": {
        "colab": {
          "base_uri": "https://localhost:8080/",
          "height": 350
        },
        "id": "GF78NFGliEx5",
        "outputId": "18bd6c73-c923-41bb-a3a4-0431e724893c"
      },
      "execution_count": 23,
      "outputs": [
        {
          "output_type": "stream",
          "name": "stderr",
          "text": [
            "/usr/local/lib/python3.8/dist-packages/seaborn/_decorators.py:36: FutureWarning: Pass the following variables as keyword args: x, y. From version 0.12, the only valid positional argument will be `data`, and passing other arguments without an explicit keyword will result in an error or misinterpretation.\n",
            "  warnings.warn(\n"
          ]
        },
        {
          "output_type": "display_data",
          "data": {
            "text/plain": [
              "<Figure size 432x288 with 1 Axes>"
            ],
            "image/png": "[encoded data removed]"
          },
          "metadata": {}
        }
      ]
    },
    {
      "cell_type": "code",
      "source": [
        "#summarizing total cost by category and sub category\n",
        "\n",
        "category_df = spend.groupby(['Product Category', 'Sub Category']).Cost.sum()\n",
        "category_df"
      ],
      "metadata": {
        "colab": {
          "base_uri": "https://localhost:8080/"
        },
        "id": "ITs0k0Eq5MbK",
        "outputId": "939cd3c7-788b-4a4a-b2e5-4eba4f011227"
      },
      "execution_count": 24,
      "outputs": [
        {
          "output_type": "execute_result",
          "data": {
            "text/plain": [
              "Product Category  Sub Category     \n",
              "Accessories       Bike Racks            105960.0\n",
              "                  Bike Stands           125610.0\n",
              "                  Bottles and Cages     579840.0\n",
              "                  Cleaners               68223.0\n",
              "                  Fenders               257801.0\n",
              "                  Helmets              2219735.0\n",
              "                  Hydration Packs       330935.0\n",
              "                  Tires and Tubes      2353791.0\n",
              "Bikes             Mountain Bikes       5031829.0\n",
              "                  Road Bikes           3823823.0\n",
              "                  Touring Bikes        2293102.0\n",
              "Clothing          Caps                  212382.0\n",
              "                  Gloves                182536.0\n",
              "                  Jerseys              1533234.0\n",
              "                  Shorts                602140.0\n",
              "                  Socks                  51696.0\n",
              "                  Vests                 310337.0\n",
              "Name: Cost, dtype: float64"
            ]
          },
          "metadata": {},
          "execution_count": 24
        }
      ]
    },
    {
      "cell_type": "code",
      "source": [
        "#total spend by Product Category\n",
        "\n",
        "category = spend.groupby('Product Category').Cost.sum()\n",
        "category"
      ],
      "metadata": {
        "colab": {
          "base_uri": "https://localhost:8080/"
        },
        "id": "ndZZBxAx51x5",
        "outputId": "d4af5764-2b6b-485b-fe4a-97b8b75e2cdc"
      },
      "execution_count": 25,
      "outputs": [
        {
          "output_type": "execute_result",
          "data": {
            "text/plain": [
              "Product Category\n",
              "Accessories     6041895.0\n",
              "Bikes          11148754.0\n",
              "Clothing        2892325.0\n",
              "Name: Cost, dtype: float64"
            ]
          },
          "metadata": {},
          "execution_count": 25
        }
      ]
    },
    {
      "cell_type": "code",
      "source": [
        "plt.title('Total spend by Product Category')\n",
        "sns.barplot(category.index, category);"
      ],
      "metadata": {
        "colab": {
          "base_uri": "https://localhost:8080/",
          "height": 350
        },
        "id": "fuzzK_T3GE_I",
        "outputId": "2fa74069-3035-4ae7-c5c9-92c2d0eaf14d"
      },
      "execution_count": 26,
      "outputs": [
        {
          "output_type": "stream",
          "name": "stderr",
          "text": [
            "/usr/local/lib/python3.8/dist-packages/seaborn/_decorators.py:36: FutureWarning: Pass the following variables as keyword args: x, y. From version 0.12, the only valid positional argument will be `data`, and passing other arguments without an explicit keyword will result in an error or misinterpretation.\n",
            "  warnings.warn(\n"
          ]
        },
        {
          "output_type": "display_data",
          "data": {
            "text/plain": [
              "<Figure size 432x288 with 1 Axes>"
            ],
            "image/png": "[encoded data removed]"
          },
          "metadata": {}
        }
      ]
    },
    {
      "cell_type": "code",
      "source": [
        "#quantity of products sold by category\n",
        "\n",
        "quan_cat = spend.groupby('Product Category').Quantity.sum()\n",
        "quan_cat"
      ],
      "metadata": {
        "colab": {
          "base_uri": "https://localhost:8080/"
        },
        "id": "qavQ8pvS22GR",
        "outputId": "05c4e808-6897-4859-bceb-0c16c74b2d29"
      },
      "execution_count": 27,
      "outputs": [
        {
          "output_type": "execute_result",
          "data": {
            "text/plain": [
              "Product Category\n",
              "Accessories    45048.0\n",
              "Bikes          14291.0\n",
              "Clothing       10481.0\n",
              "Name: Quantity, dtype: float64"
            ]
          },
          "metadata": {},
          "execution_count": 27
        }
      ]
    },
    {
      "cell_type": "code",
      "source": [
        "plt.title('Quantity of products sold by category')\n",
        "sns.barplot(quan_cat.index, quan_cat);"
      ],
      "metadata": {
        "colab": {
          "base_uri": "https://localhost:8080/",
          "height": 350
        },
        "id": "Wac-TdA_3wQI",
        "outputId": "768578e3-2691-40e2-8126-b992a9ca1acf"
      },
      "execution_count": 28,
      "outputs": [
        {
          "output_type": "stream",
          "name": "stderr",
          "text": [
            "/usr/local/lib/python3.8/dist-packages/seaborn/_decorators.py:36: FutureWarning: Pass the following variables as keyword args: x, y. From version 0.12, the only valid positional argument will be `data`, and passing other arguments without an explicit keyword will result in an error or misinterpretation.\n",
            "  warnings.warn(\n"
          ]
        },
        {
          "output_type": "display_data",
          "data": {
            "text/plain": [
              "<Figure size 432x288 with 1 Axes>"
            ],
            "image/png": "[encoded data removed]"
          },
          "metadata": {}
        }
      ]
    },
    {
      "cell_type": "code",
      "source": [
        "#revenue by product category\n",
        "\n",
        "rev_cat = spend.groupby('Product Category').Revenue.sum()\n",
        "rev_cat"
      ],
      "metadata": {
        "colab": {
          "base_uri": "https://localhost:8080/"
        },
        "id": "JVK3KEkd5awk",
        "outputId": "8904dd09-09f8-4cce-9e1c-ea80471e1569"
      },
      "execution_count": 29,
      "outputs": [
        {
          "output_type": "execute_result",
          "data": {
            "text/plain": [
              "Product Category\n",
              "Accessories     7420664.0\n",
              "Bikes          11486355.0\n",
              "Clothing        3437557.0\n",
              "Name: Revenue, dtype: float64"
            ]
          },
          "metadata": {},
          "execution_count": 29
        }
      ]
    },
    {
      "cell_type": "code",
      "source": [
        "plt.title('Revenue by Product Category')\n",
        "sns.barplot(rev_cat.index, rev_cat);"
      ],
      "metadata": {
        "colab": {
          "base_uri": "https://localhost:8080/",
          "height": 350
        },
        "id": "_dJn8p4U7K1S",
        "outputId": "e786d125-6988-448b-8955-ce7d0297f6e2"
      },
      "execution_count": 30,
      "outputs": [
        {
          "output_type": "stream",
          "name": "stderr",
          "text": [
            "/usr/local/lib/python3.8/dist-packages/seaborn/_decorators.py:36: FutureWarning: Pass the following variables as keyword args: x, y. From version 0.12, the only valid positional argument will be `data`, and passing other arguments without an explicit keyword will result in an error or misinterpretation.\n",
            "  warnings.warn(\n"
          ]
        },
        {
          "output_type": "display_data",
          "data": {
            "text/plain": [
              "<Figure size 432x288 with 1 Axes>"
            ],
            "image/png": "[encoded data removed]"
          },
          "metadata": {}
        }
      ]
    }
  ]
}